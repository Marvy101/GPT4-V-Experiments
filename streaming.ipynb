{
 "cells": [
  {
   "cell_type": "code",
   "execution_count": 74,
   "metadata": {},
   "outputs": [
    {
     "name": "stdout",
     "output_type": "stream",
     "text": [
      "Time to play: 0.5563650131225586 seconds\n",
      "Time to play: 0.9123060703277588 seconds\n"
     ]
    },
    {
     "ename": "CouldntDecodeError",
     "evalue": "Decoding failed. ffmpeg returned error code: 1\n\nOutput from ffmpeg/avlib:\n\nffmpeg version 6.0 Copyright (c) 2000-2023 the FFmpeg developers\n  built with Apple clang version 15.0.0 (clang-1500.0.40.1)\n  configuration: --prefix=/opt/homebrew/Cellar/ffmpeg/6.0_1 --enable-shared --enable-pthreads --enable-version3 --cc=clang --host-cflags= --host-ldflags='-Wl,-ld_classic' --enable-ffplay --enable-gnutls --enable-gpl --enable-libaom --enable-libaribb24 --enable-libbluray --enable-libdav1d --enable-libjxl --enable-libmp3lame --enable-libopus --enable-librav1e --enable-librist --enable-librubberband --enable-libsnappy --enable-libsrt --enable-libsvtav1 --enable-libtesseract --enable-libtheora --enable-libvidstab --enable-libvmaf --enable-libvorbis --enable-libvpx --enable-libwebp --enable-libx264 --enable-libx265 --enable-libxml2 --enable-libxvid --enable-lzma --enable-libfontconfig --enable-libfreetype --enable-frei0r --enable-libass --enable-libopencore-amrnb --enable-libopencore-amrwb --enable-libopenjpeg --enable-libspeex --enable-libsoxr --enable-libzmq --enable-libzimg --disable-libjack --disable-indev=jack --enable-videotoolbox --enable-audiotoolbox --enable-neon\n  libavutil      58.  2.100 / 58.  2.100\n  libavcodec     60.  3.100 / 60.  3.100\n  libavformat    60.  3.100 / 60.  3.100\n  libavdevice    60.  1.100 / 60.  1.100\n  libavfilter     9.  3.100 /  9.  3.100\n  libswscale      7.  1.100 /  7.  1.100\n  libswresample   4. 10.100 /  4. 10.100\n  libpostproc    57.  1.100 / 57.  1.100\n[cache @ 0x137e2c4a0] Inner protocol failed to seekback end : -78\n    Last message repeated 1 times\n[mp3 @ 0x137e2c0b0] Failed to read frame size: Could not seek to 1029.\n[cache @ 0x137e2c4a0] Statistics, cache hits:2 cache misses:1\ncache:pipe:0: Invalid argument\n",
     "output_type": "error",
     "traceback": [
      "\u001b[0;31m---------------------------------------------------------------------------\u001b[0m",
      "\u001b[0;31mCouldntDecodeError\u001b[0m                        Traceback (most recent call last)",
      "\u001b[1;32m/Users/omdada/Documents/Code/GPT4-V-Experiments/streaming.ipynb Cell 1\u001b[0m line \u001b[0;36m2\n\u001b[1;32m     <a href='vscode-notebook-cell:/Users/omdada/Documents/Code/GPT4-V-Experiments/streaming.ipynb#W0sZmlsZQ%3D%3D?line=23'>24</a>\u001b[0m \u001b[39mfor\u001b[39;00m chunk \u001b[39min\u001b[39;00m response\u001b[39m.\u001b[39miter_content(chunk_size\u001b[39m=\u001b[39m\u001b[39m67108864\u001b[39m):\n\u001b[1;32m     <a href='vscode-notebook-cell:/Users/omdada/Documents/Code/GPT4-V-Experiments/streaming.ipynb#W0sZmlsZQ%3D%3D?line=24'>25</a>\u001b[0m     \u001b[39mif\u001b[39;00m chunk:\n\u001b[0;32m---> <a href='vscode-notebook-cell:/Users/omdada/Documents/Code/GPT4-V-Experiments/streaming.ipynb#W0sZmlsZQ%3D%3D?line=25'>26</a>\u001b[0m         segment \u001b[39m=\u001b[39m AudioSegment\u001b[39m.\u001b[39;49mfrom_file(io\u001b[39m.\u001b[39;49mBytesIO(chunk), \u001b[39mformat\u001b[39;49m\u001b[39m=\u001b[39;49m\u001b[39m\"\u001b[39;49m\u001b[39mmp3\u001b[39;49m\u001b[39m\"\u001b[39;49m)\n\u001b[1;32m     <a href='vscode-notebook-cell:/Users/omdada/Documents/Code/GPT4-V-Experiments/streaming.ipynb#W0sZmlsZQ%3D%3D?line=26'>27</a>\u001b[0m         \u001b[39mprint\u001b[39m(\u001b[39mf\u001b[39m\u001b[39m\"\u001b[39m\u001b[39mTime to play: \u001b[39m\u001b[39m{\u001b[39;00mtime\u001b[39m.\u001b[39mtime()\u001b[39m \u001b[39m\u001b[39m-\u001b[39m\u001b[39m \u001b[39mstart_time\u001b[39m}\u001b[39;00m\u001b[39m seconds\u001b[39m\u001b[39m\"\u001b[39m)\n\u001b[1;32m     <a href='vscode-notebook-cell:/Users/omdada/Documents/Code/GPT4-V-Experiments/streaming.ipynb#W0sZmlsZQ%3D%3D?line=27'>28</a>\u001b[0m         play(segment)\n",
      "File \u001b[0;32m/opt/homebrew/lib/python3.11/site-packages/pydub/audio_segment.py:773\u001b[0m, in \u001b[0;36mAudioSegment.from_file\u001b[0;34m(cls, file, format, codec, parameters, start_second, duration, **kwargs)\u001b[0m\n\u001b[1;32m    771\u001b[0m     \u001b[39mif\u001b[39;00m close_file:\n\u001b[1;32m    772\u001b[0m         file\u001b[39m.\u001b[39mclose()\n\u001b[0;32m--> 773\u001b[0m     \u001b[39mraise\u001b[39;00m CouldntDecodeError(\n\u001b[1;32m    774\u001b[0m         \u001b[39m\"\u001b[39m\u001b[39mDecoding failed. ffmpeg returned error code: \u001b[39m\u001b[39m{0}\u001b[39;00m\u001b[39m\\n\u001b[39;00m\u001b[39m\\n\u001b[39;00m\u001b[39mOutput from ffmpeg/avlib:\u001b[39m\u001b[39m\\n\u001b[39;00m\u001b[39m\\n\u001b[39;00m\u001b[39m{1}\u001b[39;00m\u001b[39m\"\u001b[39m\u001b[39m.\u001b[39mformat(\n\u001b[1;32m    775\u001b[0m             p\u001b[39m.\u001b[39mreturncode, p_err\u001b[39m.\u001b[39mdecode(errors\u001b[39m=\u001b[39m\u001b[39m'\u001b[39m\u001b[39mignore\u001b[39m\u001b[39m'\u001b[39m) ))\n\u001b[1;32m    777\u001b[0m p_out \u001b[39m=\u001b[39m \u001b[39mbytearray\u001b[39m(p_out)\n\u001b[1;32m    778\u001b[0m fix_wav_headers(p_out)\n",
      "\u001b[0;31mCouldntDecodeError\u001b[0m: Decoding failed. ffmpeg returned error code: 1\n\nOutput from ffmpeg/avlib:\n\nffmpeg version 6.0 Copyright (c) 2000-2023 the FFmpeg developers\n  built with Apple clang version 15.0.0 (clang-1500.0.40.1)\n  configuration: --prefix=/opt/homebrew/Cellar/ffmpeg/6.0_1 --enable-shared --enable-pthreads --enable-version3 --cc=clang --host-cflags= --host-ldflags='-Wl,-ld_classic' --enable-ffplay --enable-gnutls --enable-gpl --enable-libaom --enable-libaribb24 --enable-libbluray --enable-libdav1d --enable-libjxl --enable-libmp3lame --enable-libopus --enable-librav1e --enable-librist --enable-librubberband --enable-libsnappy --enable-libsrt --enable-libsvtav1 --enable-libtesseract --enable-libtheora --enable-libvidstab --enable-libvmaf --enable-libvorbis --enable-libvpx --enable-libwebp --enable-libx264 --enable-libx265 --enable-libxml2 --enable-libxvid --enable-lzma --enable-libfontconfig --enable-libfreetype --enable-frei0r --enable-libass --enable-libopencore-amrnb --enable-libopencore-amrwb --enable-libopenjpeg --enable-libspeex --enable-libsoxr --enable-libzmq --enable-libzimg --disable-libjack --disable-indev=jack --enable-videotoolbox --enable-audiotoolbox --enable-neon\n  libavutil      58.  2.100 / 58.  2.100\n  libavcodec     60.  3.100 / 60.  3.100\n  libavformat    60.  3.100 / 60.  3.100\n  libavdevice    60.  1.100 / 60.  1.100\n  libavfilter     9.  3.100 /  9.  3.100\n  libswscale      7.  1.100 /  7.  1.100\n  libswresample   4. 10.100 /  4. 10.100\n  libpostproc    57.  1.100 / 57.  1.100\n[cache @ 0x137e2c4a0] Inner protocol failed to seekback end : -78\n    Last message repeated 1 times\n[mp3 @ 0x137e2c0b0] Failed to read frame size: Could not seek to 1029.\n[cache @ 0x137e2c4a0] Statistics, cache hits:2 cache misses:1\ncache:pipe:0: Invalid argument\n"
     ]
    }
   ],
   "source": [
    "import requests\n",
    "from pydub import AudioSegment\n",
    "from pydub.playback import play\n",
    "import io\n",
    "import time\n",
    "from love import OPENAIKEY\n",
    "\n",
    "# OpenAI API endpoint and parameters\n",
    "url = \"https://api.openai.com/v1/audio/speech\"\n",
    "headers = {\n",
    "    \"Authorization\": 'Bearer {OPENAIKEY}', # Replace with your API key\n",
    "}\n",
    "\n",
    "data = {\n",
    "    \"model\": \"tts-1\",\n",
    "    \"input\": \"hi there this is a test and I am a boy\",\n",
    "    \"voice\": \"alloy\",\n",
    "    \"response_format\": \"mp3\",\n",
    "}\n",
    "\n",
    "# Make the API request with streaming\n",
    "start_time = time.time()\n",
    "with requests.post(url, headers=headers, json=data, stream=True) as response:\n",
    "    if response.status_code == 200:\n",
    "        for chunk in response.iter_content(chunk_size=67108864):\n",
    "            if chunk:\n",
    "                segment = AudioSegment.from_file(io.BytesIO(chunk), format=\"mp3\")\n",
    "                print(f\"Time to play: {time.time() - start_time} seconds\")\n",
    "                play(segment)\n",
    "            else:\n",
    "                break\n",
    "    else:\n",
    "        print(f\"Error: {response.status_code} - {response.text}\")"
   ]
  },
  {
   "cell_type": "code",
   "execution_count": 70,
   "metadata": {},
   "outputs": [
    {
     "name": "stdout",
     "output_type": "stream",
     "text": [
      "Time to play: 0.990415096282959 seconds\n"
     ]
    }
   ],
   "source": [
    "from love import OPENAIKEY\n",
    "import time\n",
    "import requests\n",
    "\n",
    "\n",
    "start_time = time.time()\n",
    "response = requests.post(\n",
    "    \"https://api.openai.com/v1/audio/speech\",\n",
    "    headers={\n",
    "        \"Authorization\": f\"Bearer {OPENAIKEY}\",\n",
    "    },\n",
    "    json={\n",
    "        \"model\": \"tts-1\",\n",
    "        \"input\": 'hi there this is a test and I am a boy',\n",
    "        \"voice\": \"fable\",\n",
    "    },\n",
    ")\n",
    "\n",
    "audio = b\"\"\n",
    "count = 0\n",
    "for chunk in response.iter_content(chunk_size=int(67108864)):\n",
    "    segment = AudioSegment.from_file(io.BytesIO(chunk), format=\"mp3\")\n",
    "    print(f\"Time to play: {time.time() - start_time} seconds\")\n",
    "    play(segment)"
   ]
  }
 ],
 "metadata": {
  "kernelspec": {
   "display_name": "Python 3",
   "language": "python",
   "name": "python3"
  },
  "language_info": {
   "codemirror_mode": {
    "name": "ipython",
    "version": 3
   },
   "file_extension": ".py",
   "mimetype": "text/x-python",
   "name": "python",
   "nbconvert_exporter": "python",
   "pygments_lexer": "ipython3",
   "version": "3.11.6"
  }
 },
 "nbformat": 4,
 "nbformat_minor": 2
}
